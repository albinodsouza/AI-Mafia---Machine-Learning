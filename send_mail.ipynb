{
 "cells": [
  {
   "cell_type": "code",
   "execution_count": null,
   "metadata": {},
   "outputs": [],
   "source": [
    "import smtplib #used to transfer resources from one server to other\n",
    "#to get password from user\n",
    "import getpass\n",
    "from email.mime.text import MIMEText\n",
    "\n",
    "def send_email():\n",
    "    sender_address = 'albinodsouza151@gmail.com'\n",
    "    password = getpass.getpass()\n",
    "    subject = 'Learn.Inspire.Grow.'\n",
    "    msg= '''\n",
    "          hello!\n",
    "          i am paymax\n",
    "          thankyou!\n",
    "        '''\n",
    "    #server initialisation\n",
    "    server=smtplib.SMTP(\"smtp.gmail.com\",587)#start smtp server for connection\n",
    "    server.starttls()\n",
    "    server.login(sender_address,password)\n",
    "    \n",
    "    #draft my message \n",
    "    msg = MIMEText(msg)\n",
    "    msg['Subject'] = subject\n",
    "    msg['From'] = sender_address\n",
    "    msg['To'] = 'albinodsouza151@gmail.com'\n",
    "    recipients = 'albinodsouza151@gmail.com'#to send it to multiple emails set it as an aray\n",
    "    \n",
    "    server.sendmail(sender_address,recipients,msg.as_string())\n",
    "    \n",
    "send_email()"
   ]
  },
  {
   "cell_type": "code",
   "execution_count": null,
   "metadata": {},
   "outputs": [],
   "source": []
  },
  {
   "cell_type": "code",
   "execution_count": null,
   "metadata": {},
   "outputs": [],
   "source": []
  }
 ],
 "metadata": {
  "kernelspec": {
   "display_name": "Python 3",
   "language": "python",
   "name": "python3"
  },
  "language_info": {
   "codemirror_mode": {
    "name": "ipython",
    "version": 3
   },
   "file_extension": ".py",
   "mimetype": "text/x-python",
   "name": "python",
   "nbconvert_exporter": "python",
   "pygments_lexer": "ipython3",
   "version": "3.8.3"
  }
 },
 "nbformat": 4,
 "nbformat_minor": 4
}
